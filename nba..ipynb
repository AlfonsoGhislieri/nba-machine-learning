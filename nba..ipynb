{
 "cells": [
  {
   "cell_type": "code",
   "execution_count": 86,
   "source": [
    "import pandas as pd\n",
    "import numpy as np\n",
    "import matplotlib.pyplot as plt\n",
    "\n",
    "pd.set_option('display.max_columns', 100) # The maximum number of columns that can be shown is 50 CHANGED V2\n",
    "\n",
    "# set seed for reproducibility\n",
    "np.random.seed(0) "
   ],
   "outputs": [],
   "metadata": {}
  },
  {
   "cell_type": "markdown",
   "source": [
    "TODO\n",
    "☑\n",
    "\n",
    "- ☐ Remove empty rows\n",
    "- ☐ Remove irrelevant columns\n",
    "- ☐ Remove empty columns\n",
    "- ☐ Fill empty sets of data \n",
    "\n",
    "# Data pre-processing"
   ],
   "metadata": {}
  },
  {
   "cell_type": "code",
   "execution_count": 171,
   "source": [
    "# load dataset and print a sample\n",
    "nba_data = pd.read_csv(\"data/Player Per Game.csv\")\n",
    "print(nba_data.sample(10))"
   ],
   "outputs": [
    {
     "output_type": "stream",
     "name": "stdout",
     "text": [
      "       seas_id  season  player_id                player  birth_year pos   age  \\\n",
      "19798    11038    1988       2353        Dave Henderson         NaN  SG  23.0   \n",
      "16945    14515    1995       2757          Tracy Murray         NaN  SF  23.0   \n",
      "18758    12659    1991       2209         Tim McCormick         NaN   C  28.0   \n",
      "10514    20896    2007       3640  Šarūnas Jasikevičius         NaN  PG  30.0   \n",
      "18913    11914    1990       2501       Dražen Petrović         NaN  SG  25.0   \n",
      "22114     8849    1982       1808       Jackie Robinson         NaN  SF  26.0   \n",
      "26378     4392    1971       1254        Claude English         NaN   F  24.0   \n",
      "8942     21612    2009       3104        Antawn Jamison         NaN  PF  32.0   \n",
      "16468    15035    1996       2552          Tim Hardaway         NaN  PG  29.0   \n",
      "26759     3919    1970       1069            Art Harris         NaN  SG  23.0   \n",
      "\n",
      "       experience   lg   tm   g    gs  mp_per_game  fg_per_game  fga_per_game  \\\n",
      "19798           1  NBA  PHI  22   1.0         16.0          2.1           5.3   \n",
      "16945           3  NBA  HOU  25   0.0          8.1          1.3           3.2   \n",
      "18758           7  NBA  ATL  56   7.0         12.3          1.7           3.3   \n",
      "10514           2  NBA  GSW  26   2.0         11.9          1.4           3.9   \n",
      "18913           1  NBA  POR  77   0.0         12.6          2.7           5.5   \n",
      "22114           3  NBA  CHI   3   0.0          9.7          1.0           3.0   \n",
      "26378           1  NBA  POR  18   NaN          3.9          0.6           2.3   \n",
      "8942           11  NBA  WAS  81  81.0         38.2          8.3          17.8   \n",
      "16468           6  NBA  MIA  28  28.0         37.4          5.9          13.8   \n",
      "26759           2  NBA  TOT  81   NaN         19.2          3.5           8.9   \n",
      "\n",
      "       fg_percent  x3p_per_game  x3pa_per_game  x3p_percent  x2p_per_game  \\\n",
      "19798       0.405           0.0            0.0        0.000           2.1   \n",
      "16945       0.400           0.8            1.8        0.422           0.5   \n",
      "18758       0.497           0.0            0.1        0.000           1.7   \n",
      "10514       0.366           0.5            1.7        0.273           1.0   \n",
      "18913       0.485           0.4            1.0        0.459           2.2   \n",
      "22114       0.333           0.0            0.0          NaN           1.0   \n",
      "26378       0.262           NaN            NaN          NaN           0.6   \n",
      "8942        0.468           1.4            3.9        0.351           6.9   \n",
      "16468       0.425           1.9            5.3        0.361           4.0   \n",
      "26759       0.394           NaN            NaN          NaN           3.5   \n",
      "\n",
      "       x2pa_per_game  x2p_percent  e_fg_percent  ft_per_game  fta_per_game  \\\n",
      "19798            5.2        0.409         0.405          1.5           2.1   \n",
      "16945            1.4        0.371         0.519          0.2           0.3   \n",
      "18758            3.3        0.505         0.497          1.2           1.6   \n",
      "10514            2.2        0.439         0.426          1.0           1.2   \n",
      "18913            4.6        0.490         0.525          1.8           2.1   \n",
      "22114            3.0        0.333         0.333          1.3           1.3   \n",
      "26378            2.3        0.262         0.262          0.3           0.4   \n",
      "8942            13.9        0.501         0.507          4.2           5.6   \n",
      "16468            8.5        0.464         0.494          3.6           4.4   \n",
      "26759            8.9        0.394         0.394          1.1           1.7   \n",
      "\n",
      "       ft_percent  orb_per_game  drb_per_game  trb_per_game  ast_per_game  \\\n",
      "19798       0.681           0.5           1.1           1.6           1.5   \n",
      "16945       0.625           0.1           0.8           0.9           0.2   \n",
      "18758       0.733           1.0           1.9           2.9           0.6   \n",
      "10514       0.871           0.2           0.6           0.8           2.3   \n",
      "18913       0.844           0.6           0.8           1.4           1.5   \n",
      "22114       1.000           1.0           0.0           1.0           0.0   \n",
      "26378       0.714           NaN           NaN           1.1           0.3   \n",
      "8942        0.754           2.4           6.5           8.9           1.9   \n",
      "16468       0.821           0.5           3.0           3.5          10.0   \n",
      "26759       0.642           NaN           NaN           2.0           2.9   \n",
      "\n",
      "       stl_per_game  blk_per_game  tov_per_game  pf_per_game  pts_per_game  \n",
      "19798           0.5           0.2           1.8          1.9           5.7  \n",
      "16945           0.3           0.1           0.6          1.2           3.5  \n",
      "18758           0.2           0.3           0.8          1.6           4.5  \n",
      "10514           0.5           0.0           1.2          0.8           4.3  \n",
      "18913           0.3           0.0           1.2          1.7           7.6  \n",
      "22114           0.0           0.0           0.3          0.3           3.3  \n",
      "26378           NaN           NaN           NaN          0.8           1.5  \n",
      "8942            1.2           0.3           1.5          2.7          22.2  \n",
      "16468           2.1           0.2           3.9          2.5          17.2  \n",
      "26759           NaN           NaN           NaN          2.7           8.1  \n"
     ]
    }
   ],
   "metadata": {}
  },
  {
   "cell_type": "code",
   "execution_count": 172,
   "source": [
    "nba_data.columns"
   ],
   "outputs": [
    {
     "output_type": "execute_result",
     "data": {
      "text/plain": [
       "Index(['seas_id', 'season', 'player_id', 'player', 'birth_year', 'pos', 'age',\n",
       "       'experience', 'lg', 'tm', 'g', 'gs', 'mp_per_game', 'fg_per_game',\n",
       "       'fga_per_game', 'fg_percent', 'x3p_per_game', 'x3pa_per_game',\n",
       "       'x3p_percent', 'x2p_per_game', 'x2pa_per_game', 'x2p_percent',\n",
       "       'e_fg_percent', 'ft_per_game', 'fta_per_game', 'ft_percent',\n",
       "       'orb_per_game', 'drb_per_game', 'trb_per_game', 'ast_per_game',\n",
       "       'stl_per_game', 'blk_per_game', 'tov_per_game', 'pf_per_game',\n",
       "       'pts_per_game'],\n",
       "      dtype='object')"
      ]
     },
     "metadata": {},
     "execution_count": 172
    }
   ],
   "metadata": {}
  },
  {
   "cell_type": "code",
   "execution_count": 173,
   "source": [
    "nba_data.dtypes # returns the datatype of each column"
   ],
   "outputs": [
    {
     "output_type": "execute_result",
     "data": {
      "text/plain": [
       "seas_id            int64\n",
       "season             int64\n",
       "player_id          int64\n",
       "player            object\n",
       "birth_year       float64\n",
       "pos               object\n",
       "age              float64\n",
       "experience         int64\n",
       "lg                object\n",
       "tm                object\n",
       "g                  int64\n",
       "gs               float64\n",
       "mp_per_game      float64\n",
       "fg_per_game      float64\n",
       "fga_per_game     float64\n",
       "fg_percent       float64\n",
       "x3p_per_game     float64\n",
       "x3pa_per_game    float64\n",
       "x3p_percent      float64\n",
       "x2p_per_game     float64\n",
       "x2pa_per_game    float64\n",
       "x2p_percent      float64\n",
       "e_fg_percent     float64\n",
       "ft_per_game      float64\n",
       "fta_per_game     float64\n",
       "ft_percent       float64\n",
       "orb_per_game     float64\n",
       "drb_per_game     float64\n",
       "trb_per_game     float64\n",
       "ast_per_game     float64\n",
       "stl_per_game     float64\n",
       "blk_per_game     float64\n",
       "tov_per_game     float64\n",
       "pf_per_game      float64\n",
       "pts_per_game     float64\n",
       "dtype: object"
      ]
     },
     "metadata": {},
     "execution_count": 173
    }
   ],
   "metadata": {}
  },
  {
   "cell_type": "code",
   "execution_count": 168,
   "source": [
    "nba_data.shape # returns the shape of data - 31059 rows, 35 columns"
   ],
   "outputs": [
    {
     "output_type": "stream",
     "name": "stdout",
     "text": [
      "(31059, 35)\n"
     ]
    }
   ],
   "metadata": {}
  },
  {
   "cell_type": "code",
   "execution_count": 169,
   "source": [
    "nba_data.describe"
   ],
   "outputs": [
    {
     "output_type": "execute_result",
     "data": {
      "text/plain": [
       "<bound method NDFrame.describe of        seas_id  season  player_id          player  birth_year  pos   age  \\\n",
       "0        30458    2023       5025      A.J. Green         NaN   SG  23.0   \n",
       "1        30459    2023       5026     A.J. Lawson         NaN   SG  22.0   \n",
       "2        30460    2023       5026     A.J. Lawson         NaN   SG  22.0   \n",
       "3        30461    2023       5026     A.J. Lawson         NaN   SG  22.0   \n",
       "4        30462    2023       4219    Aaron Gordon         NaN   PF  27.0   \n",
       "...        ...     ...        ...             ...         ...  ...   ...   \n",
       "31054      200    1947        157     Walt Miller         NaN    F  31.0   \n",
       "31055      201    1947        158   Warren Fenley         NaN    F  24.0   \n",
       "31056      202    1947        159   Wilbert Kautz         NaN  G-F  31.0   \n",
       "31057      203    1947        160  Woody Grimshaw         NaN    G  27.0   \n",
       "31058      204    1947        161     Wyndol Gray         NaN  G-F  24.0   \n",
       "\n",
       "       experience   lg   tm   g    gs  mp_per_game  fg_per_game  fga_per_game  \\\n",
       "0               1  NBA  MIL  26   0.0          9.4          1.6           3.5   \n",
       "1               1  NBA  TOT  13   0.0          4.8          1.0           2.0   \n",
       "2               1  NBA  MIN   1   0.0          2.0          1.0           1.0   \n",
       "3               1  NBA  DAL  12   0.0          5.1          1.0           2.1   \n",
       "4               9  NBA  DEN  49  49.0         30.3          6.6          11.2   \n",
       "...           ...  ...  ...  ..   ...          ...          ...           ...   \n",
       "31054           1  BAA  PIT  12   NaN          NaN          0.6           1.8   \n",
       "31055           1  BAA  BOS  33   NaN          NaN          0.9           4.2   \n",
       "31056           1  BAA  CHS  50   NaN          NaN          2.1           8.4   \n",
       "31057           1  BAA  PRO  21   NaN          NaN          1.0           2.7   \n",
       "31058           1  BAA  BOS  55   NaN          NaN          2.5           8.7   \n",
       "\n",
       "       fg_percent  x3p_per_game  x3pa_per_game  x3p_percent  x2p_per_game  \\\n",
       "0           0.457           1.3            3.0        0.429           0.3   \n",
       "1           0.500           0.5            1.2        0.438           0.5   \n",
       "2           1.000           0.0            0.0          NaN           1.0   \n",
       "3           0.480           0.6            1.3        0.438           0.4   \n",
       "4           0.587           1.0            2.6        0.397           5.6   \n",
       "...           ...           ...            ...          ...           ...   \n",
       "31054       0.333           NaN            NaN          NaN           0.6   \n",
       "31055       0.225           NaN            NaN          NaN           0.9   \n",
       "31056       0.255           NaN            NaN          NaN           2.1   \n",
       "31057       0.357           NaN            NaN          NaN           1.0   \n",
       "31058       0.292           NaN            NaN          NaN           2.5   \n",
       "\n",
       "       x2pa_per_game  x2p_percent  e_fg_percent  ft_per_game  fta_per_game  \\\n",
       "0                0.6        0.600         0.636          0.2           0.2   \n",
       "1                0.8        0.600         0.635          0.1           0.2   \n",
       "2                1.0        1.000         1.000          0.0           0.0   \n",
       "3                0.8        0.556         0.620          0.1           0.3   \n",
       "4                8.7        0.644         0.633          3.1           5.0   \n",
       "...              ...          ...           ...          ...           ...   \n",
       "31054            1.8        0.333         0.333          0.8           1.5   \n",
       "31055            4.2        0.225         0.225          0.7           1.4   \n",
       "31056            8.4        0.255         0.255          0.8           1.5   \n",
       "31057            2.7        0.357         0.357          1.0           2.1   \n",
       "31058            8.7        0.292         0.292          1.3           2.3   \n",
       "\n",
       "       ft_percent  orb_per_game  drb_per_game  trb_per_game  ast_per_game  \\\n",
       "0           1.000           0.2           0.9           1.1           0.5   \n",
       "1           0.333           0.2           0.6           0.8           0.1   \n",
       "2             NaN           0.0           1.0           1.0           0.0   \n",
       "3           0.333           0.2           0.6           0.8           0.1   \n",
       "4           0.623           2.4           4.4           6.9           2.9   \n",
       "...           ...           ...           ...           ...           ...   \n",
       "31054       0.500           NaN           NaN           NaN           0.5   \n",
       "31055       0.511           NaN           NaN           NaN           0.5   \n",
       "31056       0.534           NaN           NaN           NaN           0.7   \n",
       "31057       0.477           NaN           NaN           NaN           0.0   \n",
       "31058       0.581           NaN           NaN           NaN           0.9   \n",
       "\n",
       "       stl_per_game  blk_per_game  tov_per_game  pf_per_game  pts_per_game  \n",
       "0               0.2           0.0           0.3          0.9           4.7  \n",
       "1               0.1           0.0           0.1          0.6           2.6  \n",
       "2               0.0           0.0           0.0          1.0           2.0  \n",
       "3               0.1           0.0           0.1          0.6           2.7  \n",
       "4               0.8           0.8           1.6          1.9          17.3  \n",
       "...             ...           ...           ...          ...           ...  \n",
       "31054           NaN           NaN           NaN          1.3           1.9  \n",
       "31055           NaN           NaN           NaN          1.8           2.6  \n",
       "31056           NaN           NaN           NaN          2.3           5.1  \n",
       "31057           NaN           NaN           NaN          1.2           2.9  \n",
       "31058           NaN           NaN           NaN          1.9           6.4  \n",
       "\n",
       "[31059 rows x 35 columns]>"
      ]
     },
     "metadata": {},
     "execution_count": 169
    }
   ],
   "metadata": {}
  },
  {
   "cell_type": "code",
   "execution_count": null,
   "source": [],
   "outputs": [],
   "metadata": {}
  },
  {
   "cell_type": "code",
   "execution_count": 162,
   "source": [
    "# removing players from seasons prior to 1980 - introduction of 3 point line\n",
    "nba_data = nba_data.drop(nba_data[nba_data.season < 1980].index)\n",
    "\n",
    "# removing irrelavant features\n",
    "nba_data = (nba_data.drop(columns=[\n",
    "'seas_id','season','gs','player_id','player','birth_year','age',\n",
    "'experience','lg','tm'\n",
    "]))\n",
    "\n",
    "# remove players that played less than 1/4 of all total games\n",
    "nba_data = nba_data.drop(nba_data[nba_data.g < 30].index)\n",
    "\n",
    "# remove players that played less than 1/4 of possible game time\n",
    "nba_data = nba_data.drop(nba_data[nba_data.mp_per_game < 12].index)\n",
    "\n",
    "print(nba_data.sample(10))"
   ],
   "outputs": [
    {
     "output_type": "stream",
     "name": "stdout",
     "text": [
      "      pos   g  mp_per_game  fg_per_game  fga_per_game  fg_percent  \\\n",
      "11947  PG  55         37.6          6.5          16.6       0.392   \n",
      "19607   C  80         35.5          7.5          13.1       0.570   \n",
      "13296   C  79         17.0          1.7           3.8       0.455   \n",
      "14366  SF  47         22.5          3.8           8.4       0.452   \n",
      "15279  SF  82         33.0          4.4           9.4       0.471   \n",
      "6587   SG  64         17.8          2.5           6.1       0.420   \n",
      "18850  SG  77         33.7          6.1          13.1       0.470   \n",
      "17775   C  81         37.1          9.6          19.1       0.503   \n",
      "9306   PG  53         29.7          3.6           9.2       0.387   \n",
      "11999  SG  78         37.6          7.2          16.5       0.438   \n",
      "\n",
      "       x3p_per_game  x3pa_per_game  x3p_percent  x2p_per_game  x2pa_per_game  \\\n",
      "11947           2.3            6.1        0.375           4.2           10.6   \n",
      "19607           0.0            0.0          NaN           7.5           13.1   \n",
      "13296           0.0            0.0          NaN           1.7            3.8   \n",
      "14366           0.1            0.2        0.300           3.7            8.2   \n",
      "15279           1.0            3.2        0.325           3.4            6.2   \n",
      "6587            0.5            1.4        0.359           2.0            4.6   \n",
      "18850           1.2            2.9        0.423           4.9           10.2   \n",
      "17775           0.0            0.1        0.143           9.6           19.0   \n",
      "9306            1.2            3.4        0.367           2.3            5.8   \n",
      "11999           1.0            3.5        0.282           6.2           13.0   \n",
      "\n",
      "       x2p_percent  e_fg_percent  ft_per_game  fta_per_game  ft_percent  \\\n",
      "11947        0.401         0.460          4.3           5.8       0.748   \n",
      "19607        0.570         0.570          3.7           5.1       0.719   \n",
      "13296        0.455         0.455          1.1           1.5       0.742   \n",
      "14366        0.456         0.456          1.9           3.3       0.588   \n",
      "15279        0.547         0.527          2.1           2.8       0.743   \n",
      "6587         0.439         0.463          1.4           2.0       0.713   \n",
      "18850        0.483         0.516          2.1           2.7       0.766   \n",
      "17775        0.504         0.503          4.9           6.9       0.719   \n",
      "9306         0.398         0.454          1.3           1.5       0.838   \n",
      "11999        0.481         0.468          3.3           4.8       0.684   \n",
      "\n",
      "       orb_per_game  drb_per_game  trb_per_game  ast_per_game  stl_per_game  \\\n",
      "11947           1.0           3.6           4.6           5.0           1.9   \n",
      "19607           4.3           8.2          12.5           2.2           1.0   \n",
      "13296           2.1           2.3           4.4           0.4           0.5   \n",
      "14366           2.8           3.6           6.4           0.7           0.8   \n",
      "15279           1.0           3.4           4.4           3.4           1.2   \n",
      "6587            0.6           1.7           2.3           1.4           0.5   \n",
      "18850           0.7           2.5           3.1           3.6           1.0   \n",
      "17775           2.4           9.7          12.1           1.9           0.9   \n",
      "9306            0.5           1.9           2.4           3.6           0.8   \n",
      "11999           1.6           5.1           6.7           2.9           1.1   \n",
      "\n",
      "       blk_per_game  tov_per_game  pf_per_game  pts_per_game  \n",
      "11947           0.2           4.1          3.2          19.6  \n",
      "19607           1.5           2.5          2.6          18.6  \n",
      "13296           0.2           0.8          2.2           4.6  \n",
      "14366           0.3           1.4          2.2           9.6  \n",
      "15279           0.6           2.5          3.8          12.0  \n",
      "6587            0.2           1.2          1.8           7.0  \n",
      "18850           0.4           1.6          2.3          15.5  \n",
      "17775           2.0           3.3          3.5          24.2  \n",
      "9306            0.1           1.7          1.9           9.6  \n",
      "11999           0.5           2.5          2.3          18.7  \n"
     ]
    }
   ],
   "metadata": {}
  },
  {
   "cell_type": "code",
   "execution_count": 163,
   "source": [
    "# get the number of missing data points per column\n",
    "missing_values_count = nba_data.isnull().sum()\n",
    "print(missing_values_count)"
   ],
   "outputs": [
    {
     "output_type": "stream",
     "name": "stdout",
     "text": [
      "pos                 0\n",
      "g                   0\n",
      "mp_per_game         0\n",
      "fg_per_game         0\n",
      "fga_per_game        0\n",
      "fg_percent          0\n",
      "x3p_per_game        0\n",
      "x3pa_per_game       0\n",
      "x3p_percent      1102\n",
      "x2p_per_game        0\n",
      "x2pa_per_game       0\n",
      "x2p_percent         0\n",
      "e_fg_percent        0\n",
      "ft_per_game         0\n",
      "fta_per_game        0\n",
      "ft_percent          1\n",
      "orb_per_game        0\n",
      "drb_per_game        0\n",
      "trb_per_game        0\n",
      "ast_per_game        0\n",
      "stl_per_game        0\n",
      "blk_per_game        0\n",
      "tov_per_game        0\n",
      "pf_per_game         0\n",
      "pts_per_game        0\n",
      "dtype: int64\n"
     ]
    }
   ],
   "metadata": {}
  },
  {
   "cell_type": "code",
   "execution_count": 147,
   "source": [
    "# how many total missing values do we have?\n",
    "total_cells = np.product(nba_data.shape)\n",
    "total_missing = missing_values_count.sum()\n",
    "\n",
    "# percent of data that is missing\n",
    "print((total_missing/total_cells) * 100)"
   ],
   "outputs": [
    {
     "output_type": "stream",
     "name": "stdout",
     "text": [
      "0.3138426518708209\n"
     ]
    }
   ],
   "metadata": {}
  },
  {
   "cell_type": "code",
   "execution_count": 148,
   "source": [
    "print(nba_data[nba_data['ft_percent'].isna()])\n"
   ],
   "outputs": [
    {
     "output_type": "stream",
     "name": "stdout",
     "text": [
      "        pos   g  mp_per_game  fg_per_game  fga_per_game  fg_percent  \\\n",
      "7509  PF-SF  30         12.1          0.8           2.2       0.369   \n",
      "\n",
      "      x3p_per_game  x3pa_per_game  x3p_percent  x2p_per_game  x2pa_per_game  \\\n",
      "7509           0.2            0.7         0.35           0.6            1.5   \n",
      "\n",
      "      x2p_percent  e_fg_percent  ft_per_game  fta_per_game  ft_percent  \\\n",
      "7509        0.378         0.423          0.0           0.0         NaN   \n",
      "\n",
      "      orb_per_game  drb_per_game  trb_per_game  ast_per_game  stl_per_game  \\\n",
      "7509           0.4           1.2           1.6           1.2           0.2   \n",
      "\n",
      "      blk_per_game  tov_per_game  pf_per_game  pts_per_game  \n",
      "7509           0.0           0.9          1.4           1.8  \n"
     ]
    }
   ],
   "metadata": {}
  },
  {
   "cell_type": "code",
   "execution_count": null,
   "source": [],
   "outputs": [],
   "metadata": {}
  }
 ],
 "metadata": {
  "orig_nbformat": 4,
  "kernelspec": {
   "name": "python3",
   "display_name": "Python 3.9.12 64-bit"
  },
  "language_info": {
   "name": "python",
   "version": "3.9.12",
   "mimetype": "text/x-python",
   "codemirror_mode": {
    "name": "ipython",
    "version": 3
   },
   "pygments_lexer": "ipython3",
   "nbconvert_exporter": "python",
   "file_extension": ".py"
  },
  "interpreter": {
   "hash": "aee8b7b246df8f9039afb4144a1f6fd8d2ca17a180786b69acc140d282b71a49"
  }
 },
 "nbformat": 4,
 "nbformat_minor": 2
}